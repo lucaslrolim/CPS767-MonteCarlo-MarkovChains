{
 "cells": [
  {
   "cell_type": "code",
   "execution_count": 11,
   "metadata": {
    "collapsed": true
   },
   "outputs": [],
   "source": [
    "import random\n",
    "import numpy as np\n",
    "import math\n",
    "import matplotlib.pyplot as plt\n",
    "from decimal import *\n",
    "import warnings\n",
    "warnings.filterwarnings('ignore')"
   ]
  },
  {
   "cell_type": "code",
   "execution_count": 12,
   "metadata": {
    "collapsed": true
   },
   "outputs": [],
   "source": [
    "p = 0.5\n",
    "p1 = 0.3\n",
    "p2 = 0.2\n",
    "x = np.array([\n",
    "             [1-pow(p,2),pow(p,2),0,0,0,0,0,0,0],\n",
    "             [0,1-pow(p1,2),p1-pow(p1,2),pow(p1,2),0,p1-pow(p1,2),0,0,0],\n",
    "             [p1*(1-p),0,1-p1-p,0,p*p1,0,0,0,0],\n",
    "             [0,0,0,pow(p2,2)+(1-p2),0,0,0,p2*(1-p2),p2*(1-p2)],\n",
    "             [0,0,0,p2*p1,(1-p1)*(1-p2),p2*(1-p1),0,p1*(1-p2),0],\n",
    "             [p1*(1-p),0,0,0,0,1-p-p1,p*p1,0,0],\n",
    "             [0,0,p2*(1-p1),p2*p1,0,0,(1-p1)*(1-p2),0,p1*(1-p2)],\n",
    "             [p2*(1-p),0,0,0,p*p2,0,0,1-p2,0],\n",
    "             [p2*(1-p),0,0,0,0,0,p*p2,0,1-p2]\n",
    "             ])"
   ]
  },
  {
   "cell_type": "code",
   "execution_count": 17,
   "metadata": {},
   "outputs": [
    {
     "name": "stdout",
     "output_type": "stream",
     "text": [
      "[[ 0.5625  0.0625  0.      0.      0.      0.      0.      0.      0.    ]\n",
      " [ 0.      0.8281  0.0441  0.0081  0.      0.0441  0.      0.      0.    ]\n",
      " [ 0.0225  0.      0.04    0.      0.0225  0.      0.      0.      0.    ]\n",
      " [ 0.      0.      0.      0.7056  0.      0.      0.      0.0256  0.0256]\n",
      " [ 0.      0.      0.      0.0036  0.3136  0.0196  0.      0.0576  0.    ]\n",
      " [ 0.0225  0.      0.      0.      0.      0.04    0.0225  0.      0.    ]\n",
      " [ 0.      0.      0.0196  0.0036  0.      0.      0.3136  0.      0.0576]\n",
      " [ 0.01    0.      0.      0.      0.01    0.      0.      0.64    0.    ]\n",
      " [ 0.01    0.      0.      0.      0.      0.      0.01    0.      0.64  ]]\n"
     ]
    }
   ],
   "source": [
    "pi = np.power(x,2)\n",
    "print(pi)"
   ]
  },
  {
   "cell_type": "markdown",
   "metadata": {
    "collapsed": true
   },
   "source": [
    "## Questão 2"
   ]
  },
  {
   "cell_type": "markdown",
   "metadata": {},
   "source": [
    "### 2.1\n",
    "\n",
    "Podemos entender que o passeio aleatório pelo grafo G gera uma cadeira de markov devido ao fato do próximo estado *(vértice a ser visitado)* depende apenas do estado atual *(vértice atual)*. Ainda, entendemos X como sendo uma variável aleatória que denota o vértice V que estaremos no tempo t."
   ]
  },
  {
   "cell_type": "markdown",
   "metadata": {},
   "source": [
    "### 2.2\n",
    "\n",
    "Na distribuição estacionária cada vértice terá probabilidade igual a soma dos pesos incidentes a si dividido pela soma de pesos total das arestas do grafo. Logo, teremos:\n",
    "\n",
    "$$\n",
    "\\pi_i = \\frac{W_i}{\\sum\\limits_{k=1}^n W_k}\n",
    "$$"
   ]
  },
  {
   "cell_type": "markdown",
   "metadata": {},
   "source": [
    "### 2.3\n",
    "\n",
    "Para determinar se a cadeira é reversível, fazemos:\n",
    "\n",
    "$$\n",
    "\\pi_i P_{i,j} = \\pi_j P_{j,i} \\\\\n",
    "\\frac{W_i}{\\sum\\limits_{k=1}^n W_k} \\frac{ W_{i,j} }{W_i} = \\frac{W_j}{\\sum\\limits_{k=1}^n W_k} \\frac{ W_{j,i} }{W_j} \\\\\n",
    "w_{i,j} = w_{j,i} \n",
    "$$\n",
    "\n",
    "Como o grafo é não direcionado, temos que essa condição é verdade. Portantoa cadeira **é reversível**."
   ]
  },
  {
   "cell_type": "markdown",
   "metadata": {},
   "source": [
    "## Questão 3"
   ]
  },
  {
   "cell_type": "markdown",
   "metadata": {},
   "source": [
    "### 3.1\n",
    "\n",
    "Vamos considerar d_i como sendo o grau do vértice i.\n",
    "\n",
    "#### Grafo em anel\n",
    "\n",
    "$$\n",
    "P_{i,j} = \\begin{cases} \\frac{1}{2d_i}, & \\mbox{se }\\mbox{ j = i + 1 ou j = i - 1} \\\\ 0, & \\mbox{caso} \\mbox{ contrário} \\end{cases}\n",
    "$$\n",
    "\n",
    "#### Árvore binária\n",
    "\n",
    "$$\n",
    "P_{i,j} = \\begin{cases} \\frac{1}{6}, & \\mbox{se }\\mbox{ j = 2i ou j= 2i + 1 } \\\\ 0, & \\mbox{caso} \\mbox{ contrário} \\end{cases}\n",
    "$$\n",
    "\n",
    "#### Grid 2D\n",
    "\n",
    "$$\n",
    "P_{i,j} = \\begin{cases} \\frac{1}{2d_i}, & \\mbox{se }\\mbox{ i e j são vizinhos } \\\\ 0, & \\mbox{caso} \\mbox{ contrário} \\end{cases}\n",
    "$$"
   ]
  },
  {
   "cell_type": "markdown",
   "metadata": {},
   "source": [
    "### 3.2\n",
    "\n",
    "#### Grafo em anrel\n",
    "\n",
    "A distribuição estacionária será uniforme, pois todos os vértices possuem o mesmo número de arestas. Logo:\n",
    "\n",
    "$$\n",
    "\\pi_i = \\frac{1}{n}  = \\frac{1}{100}\n",
    "$$\n",
    "\n",
    "#### Árvore binária\n",
    "\n",
    "#### Grid 2D\n",
    "\n",
    "$$\n",
    "\\pi_i = \\frac{g_i}{a}\n",
    "$$\n",
    "\n",
    "Aonde g é o grau do vértice e n é o número de arestas no grafo. Para o caso de 100 vértices teremos:\n",
    "\n",
    "$$\n",
    "a = 2n^2 - 2n = 1800\n",
    "$$\n"
   ]
  },
  {
   "cell_type": "markdown",
   "metadata": {},
   "source": [
    "## 3.3"
   ]
  },
  {
   "cell_type": "code",
   "execution_count": null,
   "metadata": {
    "collapsed": true
   },
   "outputs": [],
   "source": [
    "class MarkovChain():\n",
    "    \"\"\"Creates a Markov Chain structure\"\"\"\n",
    "    states = []\n",
    "    transitions = []\n",
    "    pi = []\n",
    "    def generateChain(numberOfNodes):\n",
    "        pass\n",
    "    def findSteadyState(self):\n",
    "        pass\n",
    "    def calculateMixingTime():\n",
    "        pass\n",
    "    "
   ]
  },
  {
   "cell_type": "code",
   "execution_count": 8,
   "metadata": {},
   "outputs": [
    {
     "name": "stdout",
     "output_type": "stream",
     "text": [
      "[[2], [2], [2], [2], [2], [2], [2], [2], [2], [2]]\n"
     ]
    }
   ],
   "source": [
    "n = [[]] *10\n",
    "n[1].append(2)\n",
    "print(n)"
   ]
  },
  {
   "cell_type": "code",
   "execution_count": 9,
   "metadata": {},
   "outputs": [
    {
     "name": "stdout",
     "output_type": "stream",
     "text": [
      "[8, 16, 32, 64, 128, 256, 512, 1024, 2048, 4096, 8192]\n"
     ]
    }
   ],
   "source": [
    "states = []\n",
    "for n in range(3,14):\n",
    "    states.append(pow(2,n))\n",
    "print(states)"
   ]
  },
  {
   "cell_type": "code",
   "execution_count": null,
   "metadata": {
    "collapsed": true
   },
   "outputs": [],
   "source": []
  }
 ],
 "metadata": {
  "kernelspec": {
   "display_name": "Python 3",
   "language": "python",
   "name": "python3"
  },
  "language_info": {
   "codemirror_mode": {
    "name": "ipython",
    "version": 3
   },
   "file_extension": ".py",
   "mimetype": "text/x-python",
   "name": "python",
   "nbconvert_exporter": "python",
   "pygments_lexer": "ipython3",
   "version": "3.6.3"
  }
 },
 "nbformat": 4,
 "nbformat_minor": 2
}

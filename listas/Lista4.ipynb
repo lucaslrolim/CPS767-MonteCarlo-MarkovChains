{
 "cells": [
  {
   "cell_type": "markdown",
   "metadata": {},
   "source": [
    "Códigos utilizados disponíveis em:\n",
    "https://github.com/lucaslrolim/CPS767-MonteCarlo-MarkovChains"
   ]
  },
  {
   "cell_type": "markdown",
   "metadata": {
    "collapsed": true
   },
   "source": [
    "## Questão 2"
   ]
  },
  {
   "cell_type": "markdown",
   "metadata": {},
   "source": [
    "### 2.1\n",
    "\n",
    "Podemos entender que o passeio aleatório pelo grafo G gera uma cadeira de markov devido ao fato do próximo estado *(vértice a ser visitado)* depende apenas do estado atual *(vértice atual)*. Ainda, entendemos X como sendo uma variável aleatória que denota o vértice V que estaremos no tempo t."
   ]
  },
  {
   "cell_type": "markdown",
   "metadata": {},
   "source": [
    "### 2.2\n",
    "\n",
    "Na distribuição estacionária cada vértice terá probabilidade igual a soma dos pesos incidentes a si dividido pela soma de pesos total das arestas do grafo. Logo, teremos:\n",
    "\n",
    "$$\n",
    "\\pi_i = \\frac{W_i}{\\sum\\limits_{k=1}^n W_k}\n",
    "$$"
   ]
  },
  {
   "cell_type": "markdown",
   "metadata": {},
   "source": [
    "### 2.3\n",
    "\n",
    "Para determinar se a cadeira é reversível, fazemos:\n",
    "\n",
    "$$\n",
    "\\pi_i P_{i,j} = \\pi_j P_{j,i} \\\\\n",
    "\\frac{W_i}{\\sum\\limits_{k=1}^n W_k} \\frac{ W_{i,j} }{W_i} = \\frac{W_j}{\\sum\\limits_{k=1}^n W_k} \\frac{ W_{j,i} }{W_j} \\\\\n",
    "w_{i,j} = w_{j,i} \n",
    "$$\n",
    "\n",
    "Como o grafo é não direcionado, temos que essa condição é verdade. Portantoa cadeira **é reversível**."
   ]
  },
  {
   "cell_type": "markdown",
   "metadata": {},
   "source": [
    "## Questão 3"
   ]
  },
  {
   "cell_type": "markdown",
   "metadata": {},
   "source": [
    "### 3.1\n",
    "\n",
    "Vamos considerar d_i como sendo o grau do vértice i.\n",
    "\n",
    "#### Grafo em anel\n",
    "\n",
    "$$\n",
    "P_{i,j} = \\begin{cases} \\frac{1}{2d_i}, & \\mbox{se }\\mbox{ j = i + 1 ou j = i - 1} \\\\ 0, & \\mbox{caso} \\mbox{ contrário} \\end{cases}\n",
    "$$\n",
    "\n",
    "#### Árvore binária\n",
    "\n",
    "$$\n",
    "P_{i,j} = \\begin{cases} \\frac{1}{6}, & \\mbox{se }\\mbox{ j = 2i ou j= 2i + 1 } \\\\ 0, & \\mbox{caso} \\mbox{ contrário} \\end{cases}\n",
    "$$\n",
    "\n",
    "#### Grid 2D\n",
    "\n",
    "$$\n",
    "P_{i,j} = \\begin{cases} \\frac{1}{2d_i}, & \\mbox{se }\\mbox{ i e j são vizinhos } \\\\ 0, & \\mbox{caso} \\mbox{ contrário} \\end{cases}\n",
    "$$"
   ]
  },
  {
   "cell_type": "markdown",
   "metadata": {},
   "source": [
    "### 3.2\n",
    "\n",
    "#### Grafo em anrel\n",
    "\n",
    "A distribuição estacionária será uniforme, pois todos os vértices possuem o mesmo número de arestas. Logo:\n",
    "\n",
    "$$\n",
    "\\pi_i = \\frac{1}{n}\n",
    "$$\n",
    "\n",
    "#### Árvore binária\n",
    "$$\n",
    "\\pi_i = \\frac{g_i}{2n}\n",
    "$$\n",
    "#### Grid 2D\n",
    "\n",
    "$$\n",
    "\\pi_i = \\frac{g_i}{\\sum\\limits_{k=1}^n g_k}\n",
    "$$\n",
    "\n"
   ]
  },
  {
   "cell_type": "markdown",
   "metadata": {},
   "source": [
    "## 3.3\n",
    "\n",
    "![variation time](images/variation_time.png)\n"
   ]
  },
  {
   "cell_type": "markdown",
   "metadata": {},
   "source": [
    "## 3.4\n",
    "\n",
    "\n",
    "Podemos concluir que o grafo em formato de árvore binária é o que converge mais rápido e o com estrutura de anel é o que mais demora para convergir. No grafo de anel a probabilidade de ¨ir e voltar¨ no mesmo vértice constantemente é alta, ao passo que na árvore isso não acontece com tanta probabilidade.\n",
    "$$~$$\n",
    "Além disso,podemos notar também que o gráfico passa a ser uma ¨reta¨ quando estamos suficientemente próximos ao tempo de mistura da determinada estrutura de grafo analisada.\n",
    "$$~$$\n",
    "*OBS: Ocorreu a formação de uma ¨barriga¨ no gráfico da árvore, o que não era esperado. Acredita-se que foi devido algum erro de implementação, contudo não houve tempo hábil para executar o algoritmo corrigido novamente e verificar. O esperado era convergir já próximo de 10 ^ 3 *"
   ]
  },
  {
   "cell_type": "markdown",
   "metadata": {
    "collapsed": true
   },
   "source": [
    "## 4."
   ]
  },
  {
   "cell_type": "markdown",
   "metadata": {
    "collapsed": true
   },
   "source": [
    "\n",
    "![mixture time](images/mixture_time.png)\n"
   ]
  },
  {
   "cell_type": "markdown",
   "metadata": {
    "collapsed": true
   },
   "source": [
    "Tanto no anel quanto no grid os tempos de mistura são lineares ao número de vértices no grafo, apesar de no anel esse tempo de mistura ser muito mais alto. Nosso algoritmo, por exemplo, apenas conseguiu calcular o tempo de mistura até o tamanho máximo de 700 vértices, demorando mais de 5 horas e não calculando para 1000.\n",
    "$$~$$\n",
    "Podemos observar também que na árvore a partir de aproximadamente 3000 vértices o tempo de mistura converge para um mesmo valor."
   ]
  }
 ],
 "metadata": {
  "kernelspec": {
   "display_name": "Python 3",
   "language": "python",
   "name": "python3"
  },
  "language_info": {
   "codemirror_mode": {
    "name": "ipython",
    "version": 3
   },
   "file_extension": ".py",
   "mimetype": "text/x-python",
   "name": "python",
   "nbconvert_exporter": "python",
   "pygments_lexer": "ipython3",
   "version": "3.6.3"
  }
 },
 "nbformat": 4,
 "nbformat_minor": 2
}

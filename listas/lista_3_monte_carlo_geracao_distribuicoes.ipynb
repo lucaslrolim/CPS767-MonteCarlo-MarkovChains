{
 "cells": [
  {
   "cell_type": "markdown",
   "metadata": {},
   "source": [
    "## Questão 3"
   ]
  },
  {
   "cell_type": "markdown",
   "metadata": {},
   "source": [
    "#### 1.\n",
    "Temos que:\n",
    "\n",
    "$$\n",
    "A_k = \\text{número de domínios existentes com k ou menos letras (1)}\\\\\n",
    "N_k = \\text{número de possíveis domínios com k ou menos letras (2)}\n",
    "$$\n",
    "\n",
    "Definimos também uma função indicadora I que recebe uma string alfa e segue a seguinte regra:\n",
    "\n",
    "$$\n",
    "I(\\alpha) = \\begin{cases} 1, & \\mbox{se }\\mbox{ o domínio existe } \\\\ 0, & \\mbox{se } \\mbox{ o domínio www.[alpha].ufrj.br não existe} \\end{cases}\n",
    "$$\n",
    "\n",
    "Por fim, definimos uma variável aleatória X será uma variável a qual assumirá o valor de uma string aleatória dentro do domínio possível do problema (2). Por consequência I(X), que usaremos na resolução do problema, também será uma variável aleatória, com distribuição binomial.\n",
    "\n",
    "Seu valor esperado será dado por:\n",
    "\n",
    "$$\n",
    "E[I(X)] = \\sum_{\\alpha \\in N_k} I(\\alpha)P[X=\\alpha] \\\\\n",
    " = \\frac{1}{N_k} \\sum_{\\alpha \\in N_k} I(\\alpha) \\\\\n",
    " = \\frac{A_k}{N_k}\n",
    "$$"
   ]
  },
  {
   "cell_type": "markdown",
   "metadata": {},
   "source": [
    "#### 2. \n",
    "A variância de I(x) será dada por:\n",
    "\n",
    "$$\n",
    "Var = E[X²] - E[X]² \\\\ \n",
    " =  \\frac{\\sum_{\\alpha \\in N_k} I(\\alpha)^2}{N_k} - \\frac{A_k}{N_k} \\\\\n",
    " = \n",
    "$$"
   ]
  },
  {
   "cell_type": "code",
   "execution_count": 89,
   "metadata": {
    "scrolled": false
   },
   "outputs": [],
   "source": [
    "import urllib.request\n",
    "import random\n",
    "import string\n",
    "\n",
    "def checkURL(url):\n",
    "    try:\n",
    "        urllib.request.urlopen(url)\n",
    "        return True\n",
    "    except ValueError as ex:\n",
    "        return False\n",
    "    except urllib.request.URLError as ex:\n",
    "        return False\n",
    "\n",
    "def randomString(maxSize = 26):\n",
    "    stringSize = random.randrange(1, maxSize) \n",
    "    randomString = ''.join(random.choices(string.ascii_lowercase, k = stringSize))\n",
    "    print(randomString)\n",
    "    return randomString\n",
    "\n",
    "def randomVariable(k = 26):\n",
    "    siteName = randomString(k)\n",
    "    randomUrl = \"www.{}.ufrj.br\".format(siteName)\n",
    "    randomVariable = checkURL(randomUrl)\n",
    "    return randomVariable\n",
    "\n",
    "def MonteCarlo(max_value,k = 26, N):\n",
    "    results = {}\n",
    "    for n in range(1,max_value):\n",
    "        s = 0\n",
    "        for j in range (n):\n",
    "            s += randomVariable(k)\n",
    "        estimator = s/n\n",
    "        result[n] = estimator * N\n",
    "    return means"
   ]
  }
 ],
 "metadata": {
  "kernelspec": {
   "display_name": "Python 3",
   "language": "python",
   "name": "python3"
  },
  "language_info": {
   "codemirror_mode": {
    "name": "ipython",
    "version": 3
   },
   "file_extension": ".py",
   "mimetype": "text/x-python",
   "name": "python",
   "nbconvert_exporter": "python",
   "pygments_lexer": "ipython3",
   "version": "3.6.3"
  }
 },
 "nbformat": 4,
 "nbformat_minor": 2
}

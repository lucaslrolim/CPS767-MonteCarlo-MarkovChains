{
 "cells": [
  {
   "cell_type": "markdown",
   "metadata": {},
   "source": [
    "# Lista 3 - Algoritmos de Monte Carlo e Cadeira de Markov - CPS 767\n",
    "\n",
    "**Aluno: ** Lucas Lopes Rolim  \n",
    "**Curso: ** Engenharia de Computação e Informação  \n",
    "**Professor: ** Daniel Ratton Figueiredo  \n",
    "**Período: ** 2018.1\n",
    "\n",
    "---\n"
   ]
  },
  {
   "cell_type": "code",
   "execution_count": 3,
   "metadata": {
    "collapsed": true
   },
   "outputs": [],
   "source": [
    "import urllib.request\n",
    "import random\n",
    "import string\n",
    "import numpy as np\n",
    "import math\n",
    "from scipy.stats import expon\n",
    "from scipy.stats import norm\n",
    "import matplotlib.pyplot as plt\n",
    "from decimal import *\n",
    "import math\n",
    "import warnings\n",
    "warnings.filterwarnings('ignore')"
   ]
  },
  {
   "cell_type": "markdown",
   "metadata": {},
   "source": [
    "## Questão 1\n",
    "*Essa questão será baseada no artigo:Aproximaciones al valor de e. Esse artigo pode ser encontrado em http://www.famaf.unc.edu.ar/wp-content/uploads/2013/11/suma-de-uniformes.pdf*"
   ]
  },
  {
   "cell_type": "markdown",
   "metadata": {},
   "source": [
    "### 1.\n",
    "\n",
    "A variável aleatória que iremos utilizar consiste de uma soma de variáveis uniformes, tal como:\n",
    "\n",
    "$$N = min{ \\sum\\limits_{i=1}^n U_i > 1 }$$\n",
    "\n",
    "Ou seja, essa variável consiste no número de variáveis aleatórias uniformes que necessitamos gerar para somar mais que 1. Dessa forma, usando Monte Carlo, vamos fazer a seguinte aproximação:\n",
    "\n",
    "$$e \\sim \\frac{min{\\sum\\limits_{i=1}^n U_i > 1 }}{N}$$\n",
    "\n",
    "O valor esperado é dado por:\n",
    "\n",
    "$$E[N] = \\sum\\limits_{i=1}^\\infty \\frac{1}{n!} = e$$"
   ]
  },
  {
   "cell_type": "markdown",
   "metadata": {},
   "source": [
    "### 2.\n",
    "\n",
    "Nossa v.a foi modelada como uma distribuição de Irwin–Hall, disso temos quer:\n",
    "\n",
    "$$Var(N) = \\frac{n}{12}$$"
   ]
  },
  {
   "cell_type": "markdown",
   "metadata": {},
   "source": [
    "### 3."
   ]
  },
  {
   "cell_type": "code",
   "execution_count": 213,
   "metadata": {},
   "outputs": [
    {
     "name": "stdout",
     "output_type": "stream",
     "text": [
      "Estimativa com 10^7 rodadas:  2.7184036\n"
     ]
    }
   ],
   "source": [
    "def estimatorEuler(n):\n",
    "    N = [] # N armazena o número de variáveis aleatórias que a iteração i levou para somar mais que 1\n",
    "    i = 0 # Número de vezes iremos gerar a variável de Euler para depois tirar a média de N\n",
    "    s = 0 # soma temporária de s na iteração i\n",
    "    numbeOfUniforms = 0 # Número de uniformes que precisamos para somar mais de 1 na iteração i\n",
    "    while i < n: ## Enquanto ainda não geramos n estimativas de Euler, continue...\n",
    "        u = random.uniform(0, 1)\n",
    "        s += u\n",
    "        numbeOfUniforms +=1\n",
    "        if(s > 1):\n",
    "            s = 0\n",
    "            N.append(numbeOfUniforms)\n",
    "            numbeOfUniforms = 0\n",
    "            i += 1\n",
    "    return np.sum(N)/n\n",
    "\n",
    "print(\"Estimativa com 10^7 rodadas: \",estimatorEuler(pow(10,7)))"
   ]
  },
  {
   "cell_type": "markdown",
   "metadata": {},
   "source": [
    "### 4."
   ]
  },
  {
   "cell_type": "markdown",
   "metadata": {},
   "source": [
    "##### 4.1 Erro Relativo"
   ]
  },
  {
   "cell_type": "code",
   "execution_count": 203,
   "metadata": {},
   "outputs": [
    {
     "data": {
      "image/png": "[encoded data removed]",
      "text/plain": [
       "<matplotlib.figure.Figure at 0x7f3da0c92b38>"
      ]
     },
     "metadata": {},
     "output_type": "display_data"
    }
   ],
   "source": [
    "def relativeError(expected,found):\n",
    "    return (expected-found)/expected\n",
    "\n",
    "n = pow(10,4)\n",
    "x_axis = list(range(2, n+1))\n",
    "y_axis = []\n",
    "for i in range(2,n+1):\n",
    "    y_axis.append(relativeError(math.exp(1),estimatorEuler(i)))\n",
    "plt.plot(np.log(x_axis), np.log(y_axis), 'b-')\n",
    "plt.show()"
   ]
  },
  {
   "cell_type": "markdown",
   "metadata": {},
   "source": [
    "##### 4.2 Standard Error"
   ]
  },
  {
   "cell_type": "code",
   "execution_count": 204,
   "metadata": {},
   "outputs": [
    {
     "data": {
      "image/png": "[encoded data removed]",
      "text/plain": [
       "<matplotlib.figure.Figure at 0x7f3da07ac4e0>"
      ]
     },
     "metadata": {},
     "output_type": "display_data"
    }
   ],
   "source": [
    "def standardError(expected,found):\n",
    "    return (expected-found)\n",
    "\n",
    "n = pow(10,4)\n",
    "x_axis = list(range(2, n+1))\n",
    "y_axis = []\n",
    "for i in range(2,n+1):\n",
    "    y_axis.append(standardError(math.exp(1),estimatorEuler(i)))\n",
    "plt.plot(np.log(x_axis), np.log(y_axis), 'b-')\n",
    "plt.show()"
   ]
  },
  {
   "cell_type": "markdown",
   "metadata": {},
   "source": [
    "Em ambos os casos, podemos concluir que o valor do eixo y (log do erro) tende a cair conforme vamos aumentando o número de iterações n. Além disso, outro fato que pode ser percebido é que o *Standart Error* osclina menos e tem um comportamento mais presivível, se comparado ao erro relativo."
   ]
  },
  {
   "cell_type": "markdown",
   "metadata": {},
   "source": [
    "## Questão 2"
   ]
  },
  {
   "cell_type": "markdown",
   "metadata": {},
   "source": [
    "### 1.\n",
    "\n",
    "Temos que a CDF (*Cumulative Density Function*) da distribuição exponencial é dada por:\n",
    "\n",
    "$$\n",
    "F(x) = 1- e^{-\\lambda x}\n",
    "$$\n",
    "\n",
    "Logo, podemos calcular sua inversa como sendo:\n",
    "\n",
    "$$\n",
    "F(u)^{-1} = \\frac{-ln(u)}{\\lambda}\n",
    "$$\n",
    "\n",
    "Portanto gerar amostras de uma v.a X com distribuição exponencial podemos usar a seguinte função:"
   ]
  },
  {
   "cell_type": "code",
   "execution_count": 205,
   "metadata": {
    "collapsed": true
   },
   "outputs": [],
   "source": [
    "def generateExponential(_lambda):\n",
    "    u = random.uniform(0, 1)\n",
    "    sample = (-np.log(u)/_lambda)\n",
    "    return sample"
   ]
  },
  {
   "cell_type": "markdown",
   "metadata": {},
   "source": [
    "### 2.\n",
    "\n",
    "No caso de uma distribuição de pareto, sabemos que sua CDF é dada por:\n",
    "    \n",
    "$$\n",
    "1 - (\\frac{x_m}{x})^{\\alpha}\n",
    "$$\n",
    "\n",
    "Fazendo a inversa dessa função, obtemos:\n",
    "\n",
    "$$\n",
    "F(u) = \\frac{\\lambda}{U^{\\frac{1}{\\alpha}}}\n",
    "$$"
   ]
  },
  {
   "cell_type": "code",
   "execution_count": 206,
   "metadata": {
    "collapsed": true
   },
   "outputs": [],
   "source": [
    "def generatePareto(_lambda,alpha):\n",
    "    u = random.uniform(0, 1)\n",
    "    sample = (_lambda)/pow(u,(1/alpha))\n",
    "    return sample"
   ]
  },
  {
   "cell_type": "markdown",
   "metadata": {},
   "source": [
    "## Questão 3"
   ]
  },
  {
   "cell_type": "markdown",
   "metadata": {},
   "source": [
    "#### 1.\n",
    "Temos que:\n",
    "\n",
    "$$\n",
    "A_k = \\text{número de domínios existentes com k ou menos letras (1)}\\\\\n",
    "N_k = \\text{número de possíveis domínios com k ou menos letras (2)}\n",
    "$$\n",
    "\n",
    "Definimos também uma função indicadora I que recebe uma string alfa e segue a seguinte regra:\n",
    "\n",
    "$$\n",
    "I(\\alpha) = \\begin{cases} 1, & \\mbox{se }\\mbox{ o domínio existe } \\\\ 0, & \\mbox{se } \\mbox{ o domínio www.[alpha].ufrj.br não existe} \\end{cases}\n",
    "$$\n",
    "\n",
    "Por fim, definimos uma variável aleatória X será uma variável a qual assumirá o valor de uma string aleatória dentro do domínio possível do problema (2). Por consequência I(X), que usaremos na resolução do problema, também será uma variável aleatória, com distribuição binomial.\n",
    "\n",
    "Seu valor esperado será dado por:\n",
    "\n",
    "$$\n",
    "E[I(X)] = \\sum_{\\alpha \\in N_k} I(\\alpha)P[X=\\alpha] \\\\\n",
    " = \\frac{1}{N_k} \\sum_{\\alpha \\in N_k} I(\\alpha) \\\\\n",
    " = \\frac{A_k}{N_k}\n",
    "$$"
   ]
  },
  {
   "cell_type": "markdown",
   "metadata": {},
   "source": [
    "#### 2. \n",
    "A variância de I(x) será dada por:\n",
    "\n",
    "$$\n",
    "Var = E[X²] - E[X]² \\\\ \n",
    " =  \\frac{\\sum_{\\alpha \\in N_k} I(\\alpha)^2}{N_k} - \\frac{A_k}{N_k} \\\\\n",
    "$$"
   ]
  },
  {
   "cell_type": "code",
   "execution_count": 4,
   "metadata": {
    "collapsed": true,
    "scrolled": false
   },
   "outputs": [],
   "source": [
    "def checkURL(url):\n",
    "    try:\n",
    "        urllib.request.urlopen(url)\n",
    "        return True\n",
    "    except ValueError as ex:\n",
    "        return False\n",
    "    except urllib.request.URLError as ex:\n",
    "        return False\n",
    "\n",
    "def randomString(maxSize = 26):\n",
    "    randomString = ''.join(random.choices(string.ascii_lowercase + ' ', k = maxSize)).replace(' ', '')\n",
    "    return randomString\n",
    "\n",
    "def randomVariable(k = 26):\n",
    "    siteName = randomString(k)\n",
    "    randomUrl = \"http://www.{}.ufrj.br\".format(siteName)\n",
    "    randomVariable = checkURL(randomUrl)\n",
    "    return randomVariable\n",
    "\n",
    "def domainSize(k):\n",
    "    size = 0\n",
    "    for i in range(1,k+1):\n",
    "        size += pow(26,i) # 26 come from alphabet size\n",
    "    return size\n",
    "    \n",
    "def domainEstimator(iterations,k):\n",
    "    results = []\n",
    "    N = domainSize(k)\n",
    "    getcontext().prec = 28\n",
    "    for n in range(1,iterations + 1):\n",
    "        s = 0\n",
    "        for j in range (n + 1):\n",
    "            s += randomVariable(k)\n",
    "        estimator = Decimal(s)/Decimal(n)\n",
    "        results.append(estimator * N)\n",
    "    return results"
   ]
  },
  {
   "cell_type": "code",
   "execution_count": 6,
   "metadata": {},
   "outputs": [],
   "source": [
    "n = pow(10,4)\n",
    "x_axis = list(range(1, n+1))\n",
    "y_axis = domainEstimator(n,4)\n",
    "plt.plot(x_axis, y_axis, 'b-')\n",
    "plt.show()"
   ]
  },
  {
   "cell_type": "markdown",
   "metadata": {},
   "source": [
    "## Questão 4"
   ]
  },
  {
   "cell_type": "code",
   "execution_count": 44,
   "metadata": {
    "collapsed": true
   },
   "outputs": [],
   "source": [
    "def generateNormalSample():\n",
    "    '''This method uses rejection sampling technique to generate samples with Normal distribution'''\n",
    "    c = 1 / 0.4 # max g(x)/f(x)\n",
    "    while True:\n",
    "        random_sample_exp = expon.rvs(size = 1)[0]\n",
    "        pdf_normal = norm.pdf(random_sample_exp)  # mean: 0, variance: 1\n",
    "        pdf_exponential = expon.pdf(random_sample_exp) # lambda: 1\n",
    "        uniform_sample = random.uniform(0, 1)\n",
    "        if( uniform_sample <= pdf_normal/(c * pdf_exponential) ):\n",
    "            signal = random.uniform(0, 1) \n",
    "            if(signal < 0.5):\n",
    "                random_sample_exp = -random_sample_exp\n",
    "            return random_sample_exp"
   ]
  },
  {
   "cell_type": "code",
   "execution_count": 47,
   "metadata": {},
   "outputs": [
    {
     "data": {
      "image/png": "[encoded data removed]",
      "text/plain": [
       "<matplotlib.figure.Figure at 0x7fbac67d4400>"
      ]
     },
     "metadata": {},
     "output_type": "display_data"
    }
   ],
   "source": [
    "samples = []\n",
    "for i in range(3000):\n",
    "    samples.append(generateNormalSample())\n",
    "plt.hist(samples, bins='auto') \n",
    "plt.show()"
   ]
  },
  {
   "cell_type": "markdown",
   "metadata": {},
   "source": [
    "## Questão 5"
   ]
  },
  {
   "cell_type": "markdown",
   "metadata": {},
   "source": [
    "### 1.\n",
    "\n",
    "A nosa função h que vamos utilizar para definir nosso estimador é:\n",
    "\n",
    "$$h(i) = \\frac{i}{\\frac{1}{n^2}}$$"
   ]
  },
  {
   "cell_type": "code",
   "execution_count": null,
   "metadata": {
    "collapsed": true
   },
   "outputs": [],
   "source": [
    "def secondMomentum(n,function):\n",
    "    E_2 = 0\n",
    "    for i in range(1, n+1):\n",
    "        if(function == 'example'):\n",
    "            h = i / ((n*(n+1)/2))\n",
    "        elif(function == 'sumSquares'):\n",
    "            h = pow(i,2)/ (pow(n,3)/3 + pow(n,2)/2 + n/6)\n",
    "        elif(function == 'new'):\n",
    "            h = i / ((n+1)/(n*n))\n",
    "        E_2 += pow(i * np.log(i),2) /  h\n",
    "    return E_2\n",
    "\n",
    "print(\"O segundo momento do estimador é: \", secondMomentum(10000,'new'))"
   ]
  },
  {
   "cell_type": "markdown",
   "metadata": {},
   "source": [
    "### 2."
   ]
  },
  {
   "cell_type": "markdown",
   "metadata": {},
   "source": [
    "Para plotar o gráfico utilizamos duas funções auxiliares: **calculateSum** e **estimator**. A primeira função calcula o valor exato da soma dos termos da função desejada, a segunda utiliza nossa função estimadora com objetivo de calcular o mesmo valor de forma aproximada. Por fim, utilizamos esses dois valores para plotar o gráfico de erro relativo, utilizando a seguinte relação:\n",
    "\n",
    "$$ y = \\mid  \\frac{Gn - Gn_e}{Gn} \\mid$$\n"
   ]
  },
  {
   "cell_type": "code",
   "execution_count": null,
   "metadata": {},
   "outputs": [],
   "source": [
    "def calculateSum(n):\n",
    "    s = 0\n",
    "    for i in range(1,n+1):\n",
    "        s =+ i * np.log(i)\n",
    "    return s\n",
    "\n",
    "def estimator(n):\n",
    "    expected_value_h = 0\n",
    "    for j in range(1,n+1):\n",
    "        g = j * math.log(j)\n",
    "        h = j / (1/(n*n))\n",
    "        expected_value_h += (g/h)*h\n",
    "    return expected_value_h / n"
   ]
  },
  {
   "cell_type": "markdown",
   "metadata": {},
   "source": [
    "## Questão 6"
   ]
  },
  {
   "cell_type": "markdown",
   "metadata": {
    "collapsed": true
   },
   "source": [
    "Para resolver esse problema iremos adotar a estratégia de criar um vetor com todos os elementos do nosso conjunto n e então permutar as suas posições de acordo com escolhas aleatórias, possibilitadas pelo uso de uma distribuição uniforme."
   ]
  },
  {
   "cell_type": "code",
   "execution_count": 58,
   "metadata": {
    "collapsed": true
   },
   "outputs": [],
   "source": [
    "def generateSubset(n,k):\n",
    "    sample = []\n",
    "    \n",
    "    # create a list of elements \n",
    "    for i in range(n):\n",
    "        sample.append(i)\n",
    "        \n",
    "    ## shuffle the elements    \n",
    "    for i in range(1,n+1):\n",
    "        index = int(random.uniform(0, n-i))\n",
    "        tmp =  sample[index]\n",
    "        sample[index] = sample[n-i]\n",
    "        sample[n-i] = tmp\n",
    "        \n",
    "    return sample[:k]"
   ]
  },
  {
   "cell_type": "markdown",
   "metadata": {},
   "source": [
    "## Questão 7"
   ]
  },
  {
   "cell_type": "markdown",
   "metadata": {},
   "source": [
    "### 1.\n",
    "\n",
    "Vamos adotar a abordagem mais simples possível do método de Monte Carlo. Iremos gerar **n** amostras com a distribuição **P** dada e então iremos comparar os valores gerados com o valor x de cauda que buscamos. Feito isso, definimos o valor do nosso estimador dividindo o número de valores gerados maiores ou iguais a x pelo total de amostras geradas."
   ]
  },
  {
   "cell_type": "code",
   "execution_count": 171,
   "metadata": {
    "collapsed": true
   },
   "outputs": [],
   "source": [
    "def generateSample(sample_name):\n",
    "    if sample_name == 'normal':\n",
    "        return norm.rvs(size = 1)[0]\n",
    "    elif sample_name == 'exponential':\n",
    "         expon.rvs(size = 1)[0]\n",
    "    elif sample_name == 'uniform':\n",
    "         random.uniform(0, 1)\n",
    "    else:\n",
    "        print('error')\n",
    "        return None\n",
    "\n",
    "def probTail(samplesToTest,x,distribution):\n",
    "    i = 0\n",
    "    samplesOnTail = 0\n",
    "    while i <= samplesToTest:\n",
    "        sample = generateSample('normal')\n",
    "        if(sample >= x):\n",
    "            samplesOnTail += 1\n",
    "        i += 1\n",
    "    estimator = samplesOnTail/samplesToTest\n",
    "    return estimator"
   ]
  },
  {
   "cell_type": "markdown",
   "metadata": {},
   "source": [
    "### 2.\n",
    "\n",
    "Temos que nosso estimador é composto pela média da soma de variáveis indicadoras, pois a cada amostra gerada verificamos se o valor está ou não na cauda desejada. Dessa forma, nossa variância será dada por:\n",
    "\n",
    "$$var(X) = P(A) (1-P(A))$$"
   ]
  },
  {
   "cell_type": "code",
   "execution_count": 209,
   "metadata": {},
   "outputs": [
    {
     "name": "stdout",
     "output_type": "stream",
     "text": [
      "Variância sem Importance Sampling  0.24999936\n"
     ]
    }
   ],
   "source": [
    "def var_est(p):\n",
    "    return p*(1-p)\n",
    "\n",
    "p = probTail(10000,0,'normal')\n",
    "print(\"Variância sem Importance Sampling \",var_est(p))"
   ]
  },
  {
   "cell_type": "markdown",
   "metadata": {},
   "source": [
    "### 3."
   ]
  },
  {
   "cell_type": "code",
   "execution_count": 211,
   "metadata": {},
   "outputs": [
    {
     "name": "stdout",
     "output_type": "stream",
     "text": [
      "Variância com Importance Sampling  0.23987907174\n"
     ]
    }
   ],
   "source": [
    "random.seed(161095) \n",
    "def probTail_IS(samplesToTest,x,distribution):\n",
    "    samplesOnTail = 0\n",
    "    i = 0\n",
    "    while i <= samplesToTest:\n",
    "        sample = generateSample('normal')\n",
    "        h =  1 / sample\n",
    "        if(sample >= x):\n",
    "            samplesOnTail += 1 / h\n",
    "        i += 1\n",
    "    estimator = samplesOnTail/samplesToTest\n",
    "    return estimator\n",
    "\n",
    "p = probTail_IS(10000,0,'normal')\n",
    "print(\"Variância com Importance Sampling \",var_est(p))"
   ]
  }
 ],
 "metadata": {
  "kernelspec": {
   "display_name": "Python 3",
   "language": "python",
   "name": "python3"
  },
  "language_info": {
   "codemirror_mode": {
    "name": "ipython",
    "version": 3
   },
   "file_extension": ".py",
   "mimetype": "text/x-python",
   "name": "python",
   "nbconvert_exporter": "python",
   "pygments_lexer": "ipython3",
   "version": "3.6.3"
  }
 },
 "nbformat": 4,
 "nbformat_minor": 2
}

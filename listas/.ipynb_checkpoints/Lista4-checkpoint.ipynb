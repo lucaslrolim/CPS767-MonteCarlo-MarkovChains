{
 "cells": [
  {
   "cell_type": "code",
   "execution_count": 1,
   "metadata": {
    "collapsed": true
   },
   "outputs": [],
   "source": [
    "import random\n",
    "import numpy as np\n",
    "import math\n",
    "import matplotlib.pyplot as plt\n",
    "from decimal import *\n",
    "import warnings\n",
    "warnings.filterwarnings('ignore')"
   ]
  },
  {
   "cell_type": "code",
   "execution_count": 16,
   "metadata": {
    "collapsed": true
   },
   "outputs": [],
   "source": [
    "p = 0.5\n",
    "p1 = 0.3\n",
    "p2 = 0.2\n",
    "x = np.array([\n",
    "             [1-pow(p,2),pow(p,2),0,0,0,0,0,0,0],\n",
    "             [0,1-pow(p1,2),p1-pow(p1,2),pow(p1,2),0,p1-pow(p1,2),0,0,0],\n",
    "             [p1*(1-p),0,1-p1-p,0,p*p1,0,0,0,0],\n",
    "             [0,0,0,pow(p2,2)+(1-p2),0,0,0,p2*(1-p2),p2*(1-p2)],\n",
    "             [0,0,0,p2*p1,(1-p1)*(1-p2),p2*(1-p1),0,p1*(1-p2),0],\n",
    "             [p1*(1-p),0,0,0,0,1-p-p1,p*p1,0,0],\n",
    "             [0,0,p2*(1-p1),p2*p1,0,0,(1-p1)*(1-p2),0,p1*(1-p2)],\n",
    "             [p2*(1-p),0,0,0,p*p2,0,0,1-p2,0],\n",
    "             [p2*(1-p),0,0,0,0,0,p*p2,0,1-p2]\n",
    "             ])"
   ]
  },
  {
   "cell_type": "code",
   "execution_count": 17,
   "metadata": {},
   "outputs": [
    {
     "name": "stdout",
     "output_type": "stream",
     "text": [
      "[[ 0.75  0.25  0.    0.    0.    0.    0.    0.    0.  ]\n",
      " [ 0.    0.91  0.21  0.09  0.    0.21  0.    0.    0.  ]\n",
      " [ 0.15  0.    0.2   0.    0.15  0.    0.    0.    0.  ]\n",
      " [ 0.    0.    0.    0.84  0.    0.    0.    0.16  0.16]\n",
      " [ 0.    0.    0.    0.06  0.56  0.14  0.    0.24  0.  ]\n",
      " [ 0.15  0.    0.    0.    0.    0.2   0.15  0.    0.  ]\n",
      " [ 0.    0.    0.14  0.06  0.    0.    0.56  0.    0.24]\n",
      " [ 0.1   0.    0.    0.    0.1   0.    0.    0.8   0.  ]\n",
      " [ 0.1   0.    0.    0.    0.    0.    0.1   0.    0.8 ]]\n"
     ]
    }
   ],
   "source": [
    "print(x)"
   ]
  },
  {
   "cell_type": "markdown",
   "metadata": {
    "collapsed": true
   },
   "source": [
    "## Questão 2"
   ]
  },
  {
   "cell_type": "markdown",
   "metadata": {},
   "source": [
    "### 2.1\n",
    "\n",
    "Podemos entender que o passeio aleatório pelo grafo G gera uma cadeira de markov devido ao fato do próximo estado *(vértice a ser visitado)* depende apenas do estado atual *(vértice atual)*. Ainda, entendemos X como sendo uma variável aleatória que denota o vértice V que estaremos no tempo t."
   ]
  },
  {
   "cell_type": "markdown",
   "metadata": {},
   "source": [
    "### 2.2\n",
    "\n",
    "Na distribuição estacionária cada vértice terá probabilidade igual a soma dos pesos incidentes a si dividido pela soma de pesos total das arestas do grafo. Logo, teremos:\n",
    "\n",
    "$$\n",
    "\\pi_i = \\frac{W_i}{\\sum\\limits_{k=1}^n W_k}\n",
    "$$"
   ]
  },
  {
   "cell_type": "markdown",
   "metadata": {},
   "source": [
    "### 2.3\n",
    "\n",
    "Para determinar se a cadeira é reversível, fazemos:\n",
    "\n",
    "$$\n",
    "\\pi_i P_{i,j} = \\pi_j P_{j,i} \\\\\n",
    "\\frac{W_i}{\\sum\\limits_{k=1}^n W_k} \\frac{ W_{i,j} }{W_i} = \\frac{W_j}{\\sum\\limits_{k=1}^n W_k} \\frac{ W_{j,i} }{W_j} \\\\\n",
    "w_{i,j} = w_{j,i} \n",
    "$$\n",
    "\n",
    "Como o grafo é não direcionado, temos que essa condição é verdade. Portantoa cadeira **é reversível**."
   ]
  },
  {
   "cell_type": "markdown",
   "metadata": {},
   "source": [
    "## Questão 3"
   ]
  },
  {
   "cell_type": "markdown",
   "metadata": {},
   "source": [
    "### 3.1\n",
    "\n",
    "Vamos considerar d_i como sendo o grau do vértice i.\n",
    "\n",
    "#### Grafo em anel\n",
    "\n",
    "$$\n",
    "P_{i,j} = \\begin{cases} \\frac{1}{2d_i}, & \\mbox{se }\\mbox{ j = i + 1 ou j = i - 1} \\\\ 0, & \\mbox{caso} \\mbox{ contrário} \\end{cases}\n",
    "$$\n",
    "\n",
    "#### Árvore binária\n",
    "\n",
    "$$\n",
    "P_{i,j} = \\begin{cases} \\frac{1}{6}, & \\mbox{se }\\mbox{ j = 2i ou j= 2i + 1 } \\\\ 0, & \\mbox{caso} \\mbox{ contrário} \\end{cases}\n",
    "$$\n",
    "\n",
    "#### Grid 2D\n",
    "\n",
    "$$\n",
    "P_{i,j} = \\begin{cases} \\frac{1}{2d_i}, & \\mbox{se }\\mbox{ i e j são vizinhos } \\\\ 0, & \\mbox{caso} \\mbox{ contrário} \\end{cases}\n",
    "$$"
   ]
  },
  {
   "cell_type": "markdown",
   "metadata": {},
   "source": [
    "### 3.2\n",
    "\n",
    "#### Grafo em anrel\n",
    "\n",
    "A distribuição estacionária será uniforme, pois todos os vértices possuem o mesmo número de arestas. Logo:\n",
    "\n",
    "$$\n",
    "\\pi_i = \\frac{1}{n}  = \\frac{1}{100}\n",
    "$$\n",
    "\n",
    "#### Árvore binária\n",
    "\n",
    "#### Grid 2D\n",
    "\n",
    "$$\n",
    "\\pi_i = \\frac{g_i}{a}\n",
    "$$\n",
    "\n",
    "Aonde g é o grau do vértice e n é o número de arestas no grafo. Para o caso de 100 vértices teremos:\n",
    "\n",
    "$$\n",
    "a = 2n^2 - 2n = 1800\n",
    "$$\n"
   ]
  },
  {
   "cell_type": "markdown",
   "metadata": {},
   "source": []
  }
 ],
 "metadata": {
  "kernelspec": {
   "display_name": "Python 3",
   "language": "python",
   "name": "python3"
  },
  "language_info": {
   "codemirror_mode": {
    "name": "ipython",
    "version": 3
   },
   "file_extension": ".py",
   "mimetype": "text/x-python",
   "name": "python",
   "nbconvert_exporter": "python",
   "pygments_lexer": "ipython3",
   "version": "3.6.3"
  }
 },
 "nbformat": 4,
 "nbformat_minor": 2
}

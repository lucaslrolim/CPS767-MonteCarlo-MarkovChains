{
 "cells": [
  {
   "cell_type": "code",
   "execution_count": 20,
   "metadata": {
    "collapsed": true
   },
   "outputs": [],
   "source": [
    "import urllib.request\n",
    "import random\n",
    "import string\n",
    "import numpy as np\n",
    "import math\n",
    "from scipy.stats import expon\n",
    "from scipy.stats import norm\n",
    "import matplotlib.pyplot as plt"
   ]
  },
  {
   "cell_type": "markdown",
   "metadata": {},
   "source": [
    "## Questão 2"
   ]
  },
  {
   "cell_type": "markdown",
   "metadata": {},
   "source": [
    "### 1.\n",
    "\n",
    "Temos que a CDF (*Cumulative Density Function*) da distribuição exponencial é dada por:\n",
    "\n",
    "$$\n",
    "F(x) = 1- e^{-\\lambda x}\n",
    "$$\n",
    "\n",
    "Logo, podemos calcular sua inversa como sendo:\n",
    "\n",
    "$$\n",
    "F(u)^{-1} = \\frac{-ln(u)}{\\lambda}\n",
    "$$\n",
    "\n",
    "Portanto gerar amostras de uma v.a X com distribuição exponencial podemos usar a seguinte função:"
   ]
  },
  {
   "cell_type": "code",
   "execution_count": 33,
   "metadata": {
    "collapsed": true
   },
   "outputs": [],
   "source": [
    "def generateExponential(_lambda):\n",
    "    u = random.uniform(0, 1)\n",
    "    sample = (-np.log(u)/_lambda)\n",
    "    return sample"
   ]
  },
  {
   "cell_type": "markdown",
   "metadata": {},
   "source": [
    "#### 2.\n",
    "\n",
    "No caso de uma distribuição de pareto, sabemos que sua CDF é dada por:\n",
    "    \n",
    "$$\n",
    "1 - (\\frac{x_m}{x})^{\\alpha}\n",
    "$$\n",
    "\n",
    "Fazendo a inversa dessa função, obtemos:\n",
    "\n",
    "$$\n",
    "F(u) = \\frac{\\lambda}{U^{\\frac{1}{\\alpha}}}\n",
    "$$"
   ]
  },
  {
   "cell_type": "code",
   "execution_count": 34,
   "metadata": {
    "collapsed": true
   },
   "outputs": [],
   "source": [
    "def generatePareto(_lambda,alpha):\n",
    "    u = random.uniform(0, 1)\n",
    "    sample = (_lambda)/pow(u,(1/alpha))\n",
    "    return sample"
   ]
  },
  {
   "cell_type": "markdown",
   "metadata": {},
   "source": [
    "## Questão 3"
   ]
  },
  {
   "cell_type": "markdown",
   "metadata": {},
   "source": [
    "#### 1.\n",
    "Temos que:\n",
    "\n",
    "$$\n",
    "A_k = \\text{número de domínios existentes com k ou menos letras (1)}\\\\\n",
    "N_k = \\text{número de possíveis domínios com k ou menos letras (2)}\n",
    "$$\n",
    "\n",
    "Definimos também uma função indicadora I que recebe uma string alfa e segue a seguinte regra:\n",
    "\n",
    "$$\n",
    "I(\\alpha) = \\begin{cases} 1, & \\mbox{se }\\mbox{ o domínio existe } \\\\ 0, & \\mbox{se } \\mbox{ o domínio www.[alpha].ufrj.br não existe} \\end{cases}\n",
    "$$\n",
    "\n",
    "Por fim, definimos uma variável aleatória X será uma variável a qual assumirá o valor de uma string aleatória dentro do domínio possível do problema (2). Por consequência I(X), que usaremos na resolução do problema, também será uma variável aleatória, com distribuição binomial.\n",
    "\n",
    "Seu valor esperado será dado por:\n",
    "\n",
    "$$\n",
    "E[I(X)] = \\sum_{\\alpha \\in N_k} I(\\alpha)P[X=\\alpha] \\\\\n",
    " = \\frac{1}{N_k} \\sum_{\\alpha \\in N_k} I(\\alpha) \\\\\n",
    " = \\frac{A_k}{N_k}\n",
    "$$"
   ]
  },
  {
   "cell_type": "markdown",
   "metadata": {},
   "source": [
    "#### 2. \n",
    "A variância de I(x) será dada por:\n",
    "\n",
    "$$\n",
    "Var = E[X²] - E[X]² \\\\ \n",
    " =  \\frac{\\sum_{\\alpha \\in N_k} I(\\alpha)^2}{N_k} - \\frac{A_k}{N_k} \\\\\n",
    " = \n",
    "$$"
   ]
  },
  {
   "cell_type": "code",
   "execution_count": 80,
   "metadata": {
    "scrolled": false
   },
   "outputs": [
    {
     "ename": "IndentationError",
     "evalue": "expected an indented block (<ipython-input-80-ee856dc6983b>, line 36)",
     "output_type": "error",
     "traceback": [
      "\u001b[0;36m  File \u001b[0;32m\"<ipython-input-80-ee856dc6983b>\"\u001b[0;36m, line \u001b[0;32m36\u001b[0m\n\u001b[0;31m    return results\u001b[0m\n\u001b[0m    ^\u001b[0m\n\u001b[0;31mIndentationError\u001b[0m\u001b[0;31m:\u001b[0m expected an indented block\n"
     ]
    }
   ],
   "source": [
    "def checkURL(url):\n",
    "    try:\n",
    "        urllib.request.urlopen(url)\n",
    "        return True\n",
    "    except ValueError as ex:\n",
    "        return False\n",
    "    except urllib.request.URLError as ex:\n",
    "        return False\n",
    "\n",
    "def randomString(maxSize = 26):\n",
    "    randomString = ''.join(random.choices(string.ascii_lowercase + ' ', k = maxSize)).replace(' ', '')\n",
    "    return randomString\n",
    "\n",
    "def randomVariable(k = 26):\n",
    "    siteName = randomString(k)\n",
    "    randomUrl = \"www.{}.ufrj.br\".format(siteName)\n",
    "    randomVariable = checkURL(randomUrl)\n",
    "    return randomVariable\n",
    "\n",
    "def domainSize(k):\n",
    "    size = 0\n",
    "    for i in range(1,k+1):\n",
    "        size += pow(26,i) # 26 come from alphabet size\n",
    "    return size\n",
    "    \n",
    "def domainEstimator(iterations,k):\n",
    "    results = {}\n",
    "    N = domainSize(k) \n",
    "    for n in range(1,iterations + 1):\n",
    "        s = 0\n",
    "        for j in range (n + 1):\n",
    "            s += randomVariable(k)\n",
    "        estimator = s/n\n",
    "        results[n] = estimator * N\n",
    "    return results"
   ]
  },
  {
   "cell_type": "code",
   "execution_count": 78,
   "metadata": {},
   "outputs": [
    {
     "ename": "NameError",
     "evalue": "name 'MonteCarlo' is not defined",
     "output_type": "error",
     "traceback": [
      "\u001b[0;31m---------------------------------------------------------------------------\u001b[0m",
      "\u001b[0;31mNameError\u001b[0m                                 Traceback (most recent call last)",
      "\u001b[0;32m<ipython-input-78-021c238194e0>\u001b[0m in \u001b[0;36m<module>\u001b[0;34m()\u001b[0m\n\u001b[0;32m----> 1\u001b[0;31m \u001b[0mprint\u001b[0m\u001b[0;34m(\u001b[0m\u001b[0mMonteCarlo\u001b[0m\u001b[0;34m(\u001b[0m\u001b[0;36m1000\u001b[0m\u001b[0;34m,\u001b[0m\u001b[0;36m4\u001b[0m\u001b[0;34m)\u001b[0m\u001b[0;34m)\u001b[0m\u001b[0;34m\u001b[0m\u001b[0m\n\u001b[0m",
      "\u001b[0;31mNameError\u001b[0m: name 'MonteCarlo' is not defined"
     ]
    }
   ],
   "source": [
    "print(domainEstimator(1000,4))"
   ]
  },
  {
   "cell_type": "markdown",
   "metadata": {},
   "source": [
    "## Questão 4"
   ]
  },
  {
   "cell_type": "code",
   "execution_count": 44,
   "metadata": {},
   "outputs": [],
   "source": [
    "def generateNormalSample():\n",
    "    '''This method uses rejection sampling technique to generate samples with Normal distribution'''\n",
    "    c = 1 / 0.4 # max g(x)/f(x)\n",
    "    while True:\n",
    "        random_sample_exp = expon.rvs(size = 1)[0]\n",
    "        pdf_normal = norm.pdf(random_sample_exp)  # mean: 0, variance: 1\n",
    "        pdf_exponential = expon.pdf(random_sample_exp) # lambda: 1\n",
    "        uniform_sample = random.uniform(0, 1)\n",
    "        if( uniform_sample <= pdf_normal/(c * pdf_exponential) ):\n",
    "            signal = random.uniform(0, 1) \n",
    "            if(signal < 0.5):\n",
    "                random_sample_exp = -random_sample_exp\n",
    "            return random_sample_exp"
   ]
  },
  {
   "cell_type": "code",
   "execution_count": 47,
   "metadata": {},
   "outputs": [
    {
     "data": {
      "image/png": "[encoded data removed]",
      "text/plain": [
       "<matplotlib.figure.Figure at 0x7fbac67d4400>"
      ]
     },
     "metadata": {},
     "output_type": "display_data"
    }
   ],
   "source": [
    "samples = []\n",
    "for i in range(3000):\n",
    "    samples.append(generateNormalSample())\n",
    "plt.hist(samples, bins='auto') \n",
    "plt.show()"
   ]
  },
  {
   "cell_type": "markdown",
   "metadata": {},
   "source": [
    "## Questão 5"
   ]
  },
  {
   "cell_type": "code",
   "execution_count": null,
   "metadata": {
    "collapsed": true
   },
   "outputs": [],
   "source": []
  },
  {
   "cell_type": "markdown",
   "metadata": {},
   "source": [
    "## Questão 6"
   ]
  },
  {
   "cell_type": "markdown",
   "metadata": {
    "collapsed": true
   },
   "source": [
    "Para resolver esse problema iremos adotar a estratégia de criar um vetor com todos os elementos do nosso conjunto n e então permutar as suas posições de acordo com escolhas aleatórias, possibilitadas pelo uso de uma distribuição uniforme."
   ]
  },
  {
   "cell_type": "code",
   "execution_count": 58,
   "metadata": {
    "collapsed": true
   },
   "outputs": [],
   "source": [
    "def generateSubset(n,k):\n",
    "    sample = []\n",
    "    \n",
    "    # crate the list of elements \n",
    "    for i in range(n):\n",
    "        sample.append(i)\n",
    "        \n",
    "    ## shuffle the elements    \n",
    "    for i in range(1,n+1):\n",
    "        index = int(random.uniform(0, n-i))\n",
    "        tmp =  sample[index]\n",
    "        sample[index] = sample[n-i]\n",
    "        sample[n-i] = tmp\n",
    "        \n",
    "    return sample[:k]"
   ]
  },
  {
   "cell_type": "markdown",
   "metadata": {},
   "source": [
    "## Questão 7"
   ]
  },
  {
   "cell_type": "markdown",
   "metadata": {},
   "source": [
    "### 1.\n",
    "\n",
    "Vamos adotar a abordagem mais simples possível do método de Monte Carlo. Iremos gerar **n** amostras com a distribuição **P** dada e então iremos comparar os valores gerados com o valor x de cauda que buscamos. Feito isso, definimos o valor do nosso estimador dividindo o número de valores gerados maiores ou iguais a x pelo total de amostras geradas."
   ]
  },
  {
   "cell_type": "code",
   "execution_count": 66,
   "metadata": {},
   "outputs": [],
   "source": [
    "def generateSample(sample_name):\n",
    "    if sample_name == 'normal':\n",
    "        return norm.rvs(size = 1)[0]\n",
    "    elif sample_name == 'exponential':\n",
    "         expon.rvs(size = 1)[0]\n",
    "    elif sample_name == 'uniform':\n",
    "         random.uniform(0, 1)\n",
    "    else:\n",
    "        print('error')\n",
    "        return None\n",
    "\n",
    "def probTail(samplesToTest,x,distribution):\n",
    "    i = 0\n",
    "    samplesOnTail = 0\n",
    "    while i <= samplesToTest:\n",
    "        sample = generateSample('normal')\n",
    "        if(sample >= x):\n",
    "            samplesOnTail += 1\n",
    "        i += 1\n",
    "    estimator = samplesOnTail/samplesToTest\n",
    "    return estimator"
   ]
  },
  {
   "cell_type": "markdown",
   "metadata": {},
   "source": [
    "### 2."
   ]
  },
  {
   "cell_type": "code",
   "execution_count": null,
   "metadata": {
    "collapsed": true
   },
   "outputs": [],
   "source": []
  },
  {
   "cell_type": "markdown",
   "metadata": {},
   "source": [
    "### 3."
   ]
  },
  {
   "cell_type": "code",
   "execution_count": null,
   "metadata": {
    "collapsed": true
   },
   "outputs": [],
   "source": []
  }
 ],
 "metadata": {
  "kernelspec": {
   "display_name": "Python 3",
   "language": "python",
   "name": "python3"
  },
  "language_info": {
   "codemirror_mode": {
    "name": "ipython",
    "version": 3
   },
   "file_extension": ".py",
   "mimetype": "text/x-python",
   "name": "python",
   "nbconvert_exporter": "python",
   "pygments_lexer": "ipython3",
   "version": "3.6.3"
  }
 },
 "nbformat": 4,
 "nbformat_minor": 2
}
